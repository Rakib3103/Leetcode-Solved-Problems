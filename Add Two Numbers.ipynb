{
  "nbformat": 4,
  "nbformat_minor": 0,
  "metadata": {
    "colab": {
      "name": "Leetcode Solved Problems",
      "provenance": [],
      "collapsed_sections": []
    },
    "kernelspec": {
      "name": "python3",
      "display_name": "Python 3"
    },
    "language_info": {
      "name": "python"
    }
  },
  "cells": [
    {
      "cell_type": "markdown",
      "source": [
        "2. **Add Two Numbers**\n",
        "\n",
        "You are given two non-empty linked lists representing two non-negative integers. The digits are stored in reverse order, and each of their nodes contains a single digit. Add the two numbers and return the sum as a linked list.\n",
        "\n",
        "You may assume the two numbers do not contain any leading zero, except the number 0 itself.\n",
        "\n",
        " \n",
        "\n",
        "Example 1:\n",
        "\n",
        "Input: l1 = [2,4,3], l2 = [5,6,4]\n",
        "\n",
        "Output: [7,0,8]\n",
        "\n",
        "Explanation: 342 + 465 = 807\n",
        "\n",
        "Example 2:\n",
        "\n",
        "Input: l1 = [0], l2 = [0]\n",
        "\n",
        "Output: [0]\n",
        "\n",
        "Example 3:\n",
        "\n",
        "Input: l1 = [9,9,9,9,9,9,9], l2 = [9,9,9,9]\n",
        "\n",
        "Output: [8,9,9,9,0,0,0,1]\n",
        " \n",
        "\n",
        "Constraints:\n",
        "\n",
        "The number of nodes in each linked list is in the range [1, 100].\n",
        "\n",
        "*   0 <= Node.val <= 9\n",
        "*   It is guaranteed that the list represents a number that does not have leading zero\n",
        "\n"
      ],
      "metadata": {
        "id": "gQn8_84yqR7S"
      }
    },
    {
      "cell_type": "code",
      "source": [
        "class Solution(object):\n",
        "    def addTwoNumbers(self, l1, l2):\n",
        "        dummy = ListNode()  #Dummy Node\n",
        "        cur = dummy         # Pointer pointing of the new digit that we are entering\n",
        "        carry_val = 0\n",
        "        while l1 or l2 or carry:\n",
        "            d1 = l1.val if l1 else 0 #d1 = l1.val if l1 is not null. else 0\n",
        "            d2 = l2.val if l2 else 0\n",
        "            \n",
        "            #Computing new digit\n",
        "            val = d1 + d2 + carry_val\n",
        "            carry = val // 10\n",
        "            val = val % 10\n",
        "            cur.next = ListNode(val)\n",
        "            \n",
        "            #Updating pointers\n",
        "            cur = cur.next\n",
        "            l1 = l1.next if l1 else None\n",
        "            l2 = l2.next if l2 else None\n",
        "        return dummy.next\n",
        "        "
      ],
      "metadata": {
        "id": "o11eeAPeqiKO"
      },
      "execution_count": null,
      "outputs": []
    }
  ]
}